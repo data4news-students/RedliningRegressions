{
 "cells": [
  {
   "cell_type": "markdown",
   "id": "6279239c",
   "metadata": {},
   "source": [
    "# Redlining and current day poverty: How historic disinvestment might cause heat vulnerabilities for NYC residents"
   ]
  },
  {
   "cell_type": "markdown",
   "id": "0c879eb6",
   "metadata": {},
   "source": [
    "Hypothesis: Residents of neighborhoods with high percentages of C or D rankings during redlining eras and higher poverty rates today are most vulnerable to the impacts on hot summers in New York City"
   ]
  },
  {
   "cell_type": "code",
   "execution_count": 21,
   "id": "027960db",
   "metadata": {},
   "outputs": [
    {
     "name": "stdout",
     "output_type": "stream",
     "text": [
      "The rpy2.ipython extension is already loaded. To reload it, use:\n",
      "  %reload_ext rpy2.ipython\n",
      "The autoreload extension is already loaded. To reload it, use:\n",
      "  %reload_ext autoreload\n"
     ]
    }
   ],
   "source": [
    "%load_ext rpy2.ipython\n",
    "%load_ext autoreload\n",
    "%autoreload 2\n",
    "\n",
    "%matplotlib inline  \n",
    "from matplotlib import rcParams\n",
    "rcParams['figure.figsize'] = (16, 100)\n",
    "\n",
    "import warnings\n",
    "from rpy2.rinterface import RRuntimeWarning\n",
    "warnings.filterwarnings(\"ignore\") # Ignore all warnings\n",
    "# warnings.filterwarnings(\"ignore\", category=RRuntimeWarning) # Show some warnings\n",
    "\n",
    "import pandas as pd\n",
    "import numpy as np\n",
    "import matplotlib.pyplot as plt\n",
    "from IPython.display import display, HTML"
   ]
  },
  {
   "cell_type": "code",
   "execution_count": 2,
   "id": "319834d4",
   "metadata": {},
   "outputs": [
    {
     "data": {
      "application/javascript": [
       "// Disable auto-scrolling\n",
       "IPython.OutputArea.prototype._should_scroll = function(lines) {\n",
       "    return false;\n",
       "}\n"
      ],
      "text/plain": [
       "<IPython.core.display.Javascript object>"
      ]
     },
     "metadata": {},
     "output_type": "display_data"
    }
   ],
   "source": [
    "%%javascript\n",
    "// Disable auto-scrolling\n",
    "IPython.OutputArea.prototype._should_scroll = function(lines) {\n",
    "    return false;\n",
    "}"
   ]
  },
  {
   "cell_type": "code",
   "execution_count": 3,
   "id": "c37f7b6a",
   "metadata": {},
   "outputs": [],
   "source": [
    "import pandas as pd\n",
    "df = pd.read_csv(\"Complete.csv\")"
   ]
  },
  {
   "cell_type": "markdown",
   "id": "a6a2d192",
   "metadata": {},
   "source": [
    "I want to run a linear regression that sees how much of the variability in HVI scores can be explained by economic factors and disinvestment"
   ]
  },
  {
   "cell_type": "code",
   "execution_count": 22,
   "id": "af9093f0",
   "metadata": {},
   "outputs": [
    {
     "name": "stdout",
     "output_type": "stream",
     "text": [
      "\n",
      "Call:\n",
      "lm(formula = \"Score ~ Perc_D + Percent_Poverty\", data = df)\n",
      "\n",
      "Residuals:\n",
      "     Min       1Q   Median       3Q      Max \n",
      "-2.04740 -0.61887 -0.09419  0.62414  2.75648 \n",
      "\n",
      "Coefficients:\n",
      "                Estimate Std. Error t value Pr(>|t|)    \n",
      "(Intercept)      0.94342    0.29329   3.217  0.00216 ** \n",
      "Perc_D           0.13536    0.39648   0.341  0.73408    \n",
      "Percent_Poverty  0.10680    0.01483   7.200 1.62e-09 ***\n",
      "---\n",
      "Signif. codes:  0 ‘***’ 0.001 ‘**’ 0.01 ‘*’ 0.05 ‘.’ 0.1 ‘ ’ 1\n",
      "\n",
      "Residual standard error: 1.006 on 56 degrees of freedom\n",
      "Multiple R-squared:  0.5276,\tAdjusted R-squared:  0.5107 \n",
      "F-statistic: 31.27 on 2 and 56 DF,  p-value: 7.59e-10\n",
      "\n"
     ]
    }
   ],
   "source": [
    "%%R -i df\n",
    "\n",
    "# run a linear regression of (dependent variable) on wt (independent variable)\n",
    "fit <- lm(\"Score ~ Perc_D + Percent_Poverty\" , data = df)\n",
    "# summarize the regression results\n",
    "summary(fit)"
   ]
  },
  {
   "cell_type": "markdown",
   "id": "c923f2e6",
   "metadata": {},
   "source": [
    "Let's add \"Percent\" variable in as well. This represents vegetative cover -- trees, parks, etc, that cools down neighborhood -- and a lack of this (according to an interview I did shows disinvestment in a city)"
   ]
  },
  {
   "cell_type": "code",
   "execution_count": 23,
   "id": "696cce2f",
   "metadata": {},
   "outputs": [
    {
     "name": "stdout",
     "output_type": "stream",
     "text": [
      "\n",
      "Call:\n",
      "lm(formula = \"Score ~ Perc_D + Percent_Poverty + Percent\", data = df)\n",
      "\n",
      "Residuals:\n",
      "    Min      1Q  Median      3Q     Max \n",
      "-1.8175 -0.6784 -0.1438  0.3979  2.8207 \n",
      "\n",
      "Coefficients:\n",
      "                Estimate Std. Error t value Pr(>|t|)    \n",
      "(Intercept)      2.26155    0.51365   4.403 4.97e-05 ***\n",
      "Perc_D          -0.16467    0.38327  -0.430  0.66913    \n",
      "Percent_Poverty  0.09899    0.01409   7.025 3.43e-09 ***\n",
      "Percent         -0.03698    0.01219  -3.034  0.00368 ** \n",
      "---\n",
      "Signif. codes:  0 ‘***’ 0.001 ‘**’ 0.01 ‘*’ 0.05 ‘.’ 0.1 ‘ ’ 1\n",
      "\n",
      "Residual standard error: 0.9396 on 55 degrees of freedom\n",
      "Multiple R-squared:  0.5953,\tAdjusted R-squared:  0.5733 \n",
      "F-statistic: 26.97 on 3 and 55 DF,  p-value: 7.342e-11\n",
      "\n"
     ]
    }
   ],
   "source": [
    "%%R -i df\n",
    "\n",
    "# run a linear regression of (dependent variable) on wt (independent variable)\n",
    "fit <- lm(\"Score ~ Perc_D + Percent_Poverty + Percent\" , data = df)\n",
    "# summarize the regression results\n",
    "summary(fit)"
   ]
  },
  {
   "cell_type": "markdown",
   "id": "761a16eb",
   "metadata": {},
   "source": [
    ".57 is a pretty solid R squared, over half the variability in HVI scores can be explained by redlining, poverty rate, and lack of vegetative cover"
   ]
  },
  {
   "cell_type": "markdown",
   "id": "1cd6f581",
   "metadata": {},
   "source": [
    "We also have a really low p value, so this is very unlikely to be due to chance alone!"
   ]
  },
  {
   "cell_type": "code",
   "execution_count": null,
   "id": "38ad6520",
   "metadata": {},
   "outputs": [],
   "source": []
  }
 ],
 "metadata": {
  "kernelspec": {
   "display_name": "Python 3 (ipykernel)",
   "language": "python",
   "name": "python3"
  },
  "language_info": {
   "codemirror_mode": {
    "name": "ipython",
    "version": 3
   },
   "file_extension": ".py",
   "mimetype": "text/x-python",
   "name": "python",
   "nbconvert_exporter": "python",
   "pygments_lexer": "ipython3",
   "version": "3.11.0rc2"
  }
 },
 "nbformat": 4,
 "nbformat_minor": 5
}
